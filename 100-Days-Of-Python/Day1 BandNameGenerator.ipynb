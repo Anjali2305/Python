{
 "cells": [
  {
   "cell_type": "code",
   "execution_count": 1,
   "id": "dd6100af",
   "metadata": {},
   "outputs": [
    {
     "name": "stdout",
     "output_type": "stream",
     "text": [
      "Welcome to the Band Name Generator.\n"
     ]
    }
   ],
   "source": [
    "print(\"Welcome to the Band Name Generator.\")"
   ]
  },
  {
   "cell_type": "code",
   "execution_count": 2,
   "id": "4542f42f",
   "metadata": {},
   "outputs": [
    {
     "name": "stdout",
     "output_type": "stream",
     "text": [
      "What's name of the city you grew up in?\n",
      "Delhi\n"
     ]
    }
   ],
   "source": [
    "street = input(\"What's name of the city you grew up in?\\n\")"
   ]
  },
  {
   "cell_type": "code",
   "execution_count": 3,
   "id": "47b71233",
   "metadata": {},
   "outputs": [
    {
     "name": "stdout",
     "output_type": "stream",
     "text": [
      "What's your pet's name?\n",
      "Tommy\n"
     ]
    }
   ],
   "source": [
    "pet = input(\"What's your pet's name?\\n\")"
   ]
  },
  {
   "cell_type": "code",
   "execution_count": 4,
   "id": "c1ded59e",
   "metadata": {},
   "outputs": [
    {
     "name": "stdout",
     "output_type": "stream",
     "text": [
      "Your band name could be Delhi Tommy\n"
     ]
    }
   ],
   "source": [
    "print(\"Your band name could be \" + street + \" \" + pet)"
   ]
  }
 ],
 "metadata": {
  "kernelspec": {
   "display_name": "Python 3",
   "language": "python",
   "name": "python3"
  },
  "language_info": {
   "codemirror_mode": {
    "name": "ipython",
    "version": 3
   },
   "file_extension": ".py",
   "mimetype": "text/x-python",
   "name": "python",
   "nbconvert_exporter": "python",
   "pygments_lexer": "ipython3",
   "version": "3.8.8"
  }
 },
 "nbformat": 4,
 "nbformat_minor": 5
}
