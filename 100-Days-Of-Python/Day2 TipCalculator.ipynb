{
 "cells": [
  {
   "cell_type": "code",
   "execution_count": 1,
   "id": "c494f0d3",
   "metadata": {},
   "outputs": [
    {
     "name": "stdout",
     "output_type": "stream",
     "text": [
      "Welcome to the tip calculator!\n"
     ]
    }
   ],
   "source": [
    "#If the bill was $150.00, split between 5 people, with 12% tip. \n",
    "#Each person should pay (150.00 / 5) * 1.12 = 33.6\n",
    "#Round the result to 2 decimal places.\n",
    "print(\"Welcome to the tip calculator!\")"
   ]
  },
  {
   "cell_type": "code",
   "execution_count": 2,
   "id": "9a7082bc",
   "metadata": {},
   "outputs": [
    {
     "name": "stdout",
     "output_type": "stream",
     "text": [
      "What was the total bill? $500\n"
     ]
    }
   ],
   "source": [
    "bill = float(input(\"What was the total bill? $\"))"
   ]
  },
  {
   "cell_type": "code",
   "execution_count": 3,
   "id": "dce3e8cc",
   "metadata": {},
   "outputs": [
    {
     "name": "stdout",
     "output_type": "stream",
     "text": [
      "How much tip would you like to give? 10, 12, or 15? 10\n"
     ]
    }
   ],
   "source": [
    "tip = int(input(\"How much tip would you like to give? 10, 12, or 15? \"))"
   ]
  },
  {
   "cell_type": "code",
   "execution_count": 4,
   "id": "1f5d1169",
   "metadata": {},
   "outputs": [
    {
     "name": "stdout",
     "output_type": "stream",
     "text": [
      "How many people to split the bill?3\n"
     ]
    }
   ],
   "source": [
    "people = int(input(\"How many people to split the bill?\"))"
   ]
  },
  {
   "cell_type": "code",
   "execution_count": 5,
   "id": "f62595ea",
   "metadata": {},
   "outputs": [],
   "source": [
    "tip_as_percent = tip / 100\n",
    "total_tip_amount = bill * tip_as_percent\n",
    "total_bill = bill + total_tip_amount\n",
    "bill_per_person = total_bill / people\n",
    "final_amount = round(bill_per_person, 2)"
   ]
  },
  {
   "cell_type": "code",
   "execution_count": 6,
   "id": "5e107d35",
   "metadata": {},
   "outputs": [
    {
     "name": "stdout",
     "output_type": "stream",
     "text": [
      "Each person should pay: $183.33\n"
     ]
    }
   ],
   "source": [
    "print(f\"Each person should pay: ${final_amount}\")"
   ]
  }
 ],
 "metadata": {
  "kernelspec": {
   "display_name": "Python 3",
   "language": "python",
   "name": "python3"
  },
  "language_info": {
   "codemirror_mode": {
    "name": "ipython",
    "version": 3
   },
   "file_extension": ".py",
   "mimetype": "text/x-python",
   "name": "python",
   "nbconvert_exporter": "python",
   "pygments_lexer": "ipython3",
   "version": "3.8.8"
  }
 },
 "nbformat": 4,
 "nbformat_minor": 5
}
